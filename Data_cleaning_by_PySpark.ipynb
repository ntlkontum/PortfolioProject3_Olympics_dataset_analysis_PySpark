{
 "cells": [
  {
   "cell_type": "code",
   "execution_count": 5,
   "id": "cb619dd5-8c59-4630-aa59-79fe02ba9f2c",
   "metadata": {},
   "outputs": [],
   "source": [
    "# Import necessary libraries\n",
    "import pyspark\n",
    "from pyspark.sql import SparkSession\n",
    "from pyspark.sql.types import StructType, StructField, StringType, IntegerType, DoubleType\n",
    "from pyspark.sql.functions import col, when, regexp_replace, countDistinct, lit, sum, avg, max, min, count,isnan\n",
    "import os"
   ]
  },
  {
   "cell_type": "markdown",
   "id": "5e8d3719-9f11-48c8-991d-763efa0d2ec4",
   "metadata": {},
   "source": [
    "### Creating a new Spark Session"
   ]
  },
  {
   "cell_type": "code",
   "execution_count": 7,
   "id": "5bfa68f9-b3c0-403e-ad05-35d69f12de7f",
   "metadata": {},
   "outputs": [
    {
     "data": {
      "text/html": [
       "\n",
       "            <div>\n",
       "                <p><b>SparkSession - in-memory</b></p>\n",
       "                \n",
       "        <div>\n",
       "            <p><b>SparkContext</b></p>\n",
       "\n",
       "            <p><a href=\"http://DESKTOP-GTI74UJ:4040\">Spark UI</a></p>\n",
       "\n",
       "            <dl>\n",
       "              <dt>Version</dt>\n",
       "                <dd><code>v3.5.1</code></dd>\n",
       "              <dt>Master</dt>\n",
       "                <dd><code>local[*]</code></dd>\n",
       "              <dt>AppName</dt>\n",
       "                <dd><code>OlympicsDatasetAnalysis</code></dd>\n",
       "            </dl>\n",
       "        </div>\n",
       "        \n",
       "            </div>\n",
       "        "
      ],
      "text/plain": [
       "<pyspark.sql.session.SparkSession at 0x201716a2710>"
      ]
     },
     "execution_count": 7,
     "metadata": {},
     "output_type": "execute_result"
    }
   ],
   "source": [
    "os.environ['JAVA_HOME'] = 'C:\\\\Program Files\\\\Java\\\\jdk-11'\n",
    "spark = SparkSession.builder.appName(\"OlympicsDatasetAnalysis\").getOrCreate()\n",
    "spark"
   ]
  },
  {
   "cell_type": "markdown",
   "id": "f4f14e62-a909-4f07-a07d-eda6313528a3",
   "metadata": {
    "jp-MarkdownHeadingCollapsed": true
   },
   "source": [
    "### Loading Data to a DataFrame"
   ]
  },
  {
   "cell_type": "markdown",
   "id": "a3ad8b1a-05ba-4981-a19e-e6b66ad0539b",
   "metadata": {},
   "source": [
    "Link dataset: https://github.com/KeithGalli/Olympics-Dataset"
   ]
  },
  {
   "cell_type": "code",
   "execution_count": 13,
   "id": "eff191de-e203-4f4b-ae78-16efb6d0e21d",
   "metadata": {},
   "outputs": [
    {
     "name": "stdout",
     "output_type": "stream",
     "text": [
      "+------+------+----------+------------------------+---------------------+----------+---+---------------+-----+-----+-----+\n",
      "|year  |type  |discipline|event                   |as                   |athlete_id|noc|team           |place|tied |medal|\n",
      "+------+------+----------+------------------------+---------------------+----------+---+---------------+-----+-----+-----+\n",
      "|1912.0|Summer|Tennis    |Singles, Men (Olympic)  |Jean-François Blanchy|1         |FRA|NULL           |17.0 |true |NULL |\n",
      "|1912.0|Summer|Tennis    |Doubles, Men (Olympic)  |Jean-François Blanchy|1         |FRA|Jean Montariol |NULL |false|NULL |\n",
      "|1920.0|Summer|Tennis    |Singles, Men (Olympic)  |Jean-François Blanchy|1         |FRA|NULL           |32.0 |true |NULL |\n",
      "|1920.0|Summer|Tennis    |Doubles, Mixed (Olympic)|Jean-François Blanchy|1         |FRA|Jeanne Vaussard|8.0  |true |NULL |\n",
      "|1920.0|Summer|Tennis    |Doubles, Men (Olympic)  |Jean-François Blanchy|1         |FRA|Jacques Brugnon|4.0  |false|NULL |\n",
      "+------+------+----------+------------------------+---------------------+----------+---+---------------+-----+-----+-----+\n",
      "only showing top 5 rows\n",
      "\n"
     ]
    }
   ],
   "source": [
    "datafile = \"Olympics Dataset .csv\"\n",
    "df = spark.read.csv(datafile,header=True,inferSchema=True)\n",
    "df.show(5, truncate=False)"
   ]
  },
  {
   "cell_type": "markdown",
   "id": "c10ffb91-6617-4c23-89c7-96808cbce77a",
   "metadata": {
    "jp-MarkdownHeadingCollapsed": true
   },
   "source": [
    "### Data overview"
   ]
  },
  {
   "cell_type": "code",
   "execution_count": 16,
   "id": "97816ae7-53fe-4653-973b-287fcbed5a64",
   "metadata": {},
   "outputs": [
    {
     "data": {
      "text/plain": [
       "308408"
      ]
     },
     "execution_count": 16,
     "metadata": {},
     "output_type": "execute_result"
    }
   ],
   "source": [
    "# Number of rows\n",
    "df.count()"
   ]
  },
  {
   "cell_type": "code",
   "execution_count": 32,
   "id": "31d8eaa5-fc04-4971-abf6-d61449b34f64",
   "metadata": {},
   "outputs": [
    {
     "name": "stdout",
     "output_type": "stream",
     "text": [
      "-RECORD 0-------------------------------------------------------\n",
      " summary    | count                                             \n",
      " year       | 305807                                            \n",
      " type       | 305807                                            \n",
      " discipline | 308407                                            \n",
      " event      | 308408                                            \n",
      " as         | 308408                                            \n",
      " athlete_id | 308408                                            \n",
      " noc        | 308407                                            \n",
      " team       | 121714                                            \n",
      " place      | 283193                                            \n",
      " medal      | 44139                                             \n",
      "-RECORD 1-------------------------------------------------------\n",
      " summary    | mean                                              \n",
      " year       | 1982.239222777765                                 \n",
      " type       | NULL                                              \n",
      " discipline | NULL                                              \n",
      " event      | NULL                                              \n",
      " as         | NULL                                              \n",
      " athlete_id | 72624.09712458821                                 \n",
      " noc        | NULL                                              \n",
      " team       | 5000.0                                            \n",
      " place      | 16.102763839501684                                \n",
      " medal      | NULL                                              \n",
      "-RECORD 2-------------------------------------------------------\n",
      " summary    | stddev                                            \n",
      " year       | 30.983981777702994                                \n",
      " type       | NULL                                              \n",
      " discipline | NULL                                              \n",
      " event      | NULL                                              \n",
      " as         | NULL                                              \n",
      " athlete_id | 41285.94084133992                                 \n",
      " noc        | NULL                                              \n",
      " team       | NULL                                              \n",
      " place      | 19.322610715489944                                \n",
      " medal      | NULL                                              \n",
      "-RECORD 3-------------------------------------------------------\n",
      " summary    | min                                               \n",
      " year       | 1896.0                                            \n",
      " type       | Summer                                            \n",
      " discipline | 3-on-3 Ice Hockey (Ice Hockey)                    \n",
      " event      | 0-½ Ton, Open (Olympic)                           \n",
      " as         | A J Kitt                                          \n",
      " athlete_id | 1                                                 \n",
      " noc        | AFG                                               \n",
      " team       | \"Large boat, Central Naval Prep School \"\"Poros\"\"\" \n",
      " place      | 1.0                                               \n",
      " medal      | Bronze                                            \n",
      "-RECORD 4-------------------------------------------------------\n",
      " summary    | max                                               \n",
      " year       | 2022.0                                            \n",
      " type       | Winter                                            \n",
      " discipline | Wrestling                                         \n",
      " event      | ≤85 kilograms, Greco Roman, Boys (YOG)            \n",
      " as         | Аlex Halcheniuk                                   \n",
      " athlete_id | 148986                                            \n",
      " noc        | ZIM                                               \n",
      " team       | Ștefan Vasile                                     \n",
      " place      | 185.0                                             \n",
      " medal      | Silver                                            \n",
      "\n"
     ]
    }
   ],
   "source": [
    "#Describe\n",
    "df.describe().show(truncate=False, vertical=True)"
   ]
  },
  {
   "cell_type": "code",
   "execution_count": 34,
   "id": "4f6b209a-421c-4f7e-ace1-0d5953abc9bf",
   "metadata": {},
   "outputs": [
    {
     "name": "stdout",
     "output_type": "stream",
     "text": [
      "root\n",
      " |-- year: double (nullable = true)\n",
      " |-- type: string (nullable = true)\n",
      " |-- discipline: string (nullable = true)\n",
      " |-- event: string (nullable = true)\n",
      " |-- as: string (nullable = true)\n",
      " |-- athlete_id: integer (nullable = true)\n",
      " |-- noc: string (nullable = true)\n",
      " |-- team: string (nullable = true)\n",
      " |-- place: double (nullable = true)\n",
      " |-- tied: boolean (nullable = true)\n",
      " |-- medal: string (nullable = true)\n",
      "\n"
     ]
    }
   ],
   "source": [
    "# Print schema\n",
    "df.printSchema()"
   ]
  },
  {
   "cell_type": "markdown",
   "id": "422d0f6f-a6bf-4780-8da9-2ced4bd5de0e",
   "metadata": {
    "jp-MarkdownHeadingCollapsed": true
   },
   "source": [
    "### Data cleaning"
   ]
  },
  {
   "cell_type": "markdown",
   "id": "d515e2bf-710f-4021-a567-7d66c411e9dd",
   "metadata": {},
   "source": [
    "#### Drop unnecessary columns"
   ]
  },
  {
   "cell_type": "code",
   "execution_count": 65,
   "id": "a8e5315d-65cc-4946-ac2b-17cb593d5590",
   "metadata": {},
   "outputs": [
    {
     "name": "stdout",
     "output_type": "stream",
     "text": [
      "+------+----------+----------------------+---------------------+----------+---+-----+-----+-----+\n",
      "|year  |discipline|event                 |as                   |athlete_id|noc|place|tied |medal|\n",
      "+------+----------+----------------------+---------------------+----------+---+-----+-----+-----+\n",
      "|1912.0|Tennis    |Singles, Men (Olympic)|Jean-François Blanchy|1         |FRA|17.0 |true |NULL |\n",
      "|1912.0|Tennis    |Doubles, Men (Olympic)|Jean-François Blanchy|1         |FRA|NULL |false|NULL |\n",
      "+------+----------+----------------------+---------------------+----------+---+-----+-----+-----+\n",
      "only showing top 2 rows\n",
      "\n"
     ]
    }
   ],
   "source": [
    "df = df.drop('team','type')\n",
    "df.show(2,truncate=False)"
   ]
  },
  {
   "cell_type": "markdown",
   "id": "148c9fe8-d542-4e2c-a380-bbee1fdd1202",
   "metadata": {},
   "source": [
    "#### Drop rows with NULL value"
   ]
  },
  {
   "cell_type": "code",
   "execution_count": 67,
   "id": "22a49e65-0b0e-466a-89cf-3b60051ca4dc",
   "metadata": {},
   "outputs": [],
   "source": [
    "df = df.withColumn(\"tied\", col(\"tied\").cast(\"string\"))"
   ]
  },
  {
   "cell_type": "code",
   "execution_count": 69,
   "id": "80f8f8e4-5d82-46e5-a6cc-12f36bfa0cfb",
   "metadata": {},
   "outputs": [
    {
     "name": "stdout",
     "output_type": "stream",
     "text": [
      "+----+----------+-----+---+----------+---+-----+----+------+\n",
      "|year|discipline|event| as|athlete_id|noc|place|tied| medal|\n",
      "+----+----------+-----+---+----------+---+-----+----+------+\n",
      "|2601|         1|    0|  0|         0|  1|25215|   0|264269|\n",
      "+----+----------+-----+---+----------+---+-----+----+------+\n",
      "\n"
     ]
    }
   ],
   "source": [
    "# Check missing values\n",
    "df.select([count(when(isnan(c) | col(c).isNull(), c)).alias(c) for c in df.columns]).show()"
   ]
  },
  {
   "cell_type": "code",
   "execution_count": 60,
   "id": "0258da2d-8be0-46a6-a535-da6ac47d393d",
   "metadata": {},
   "outputs": [
    {
     "data": {
      "text/plain": [
       "[None,\n",
       " 1896.0,\n",
       " 1900.0,\n",
       " 1904.0,\n",
       " 1908.0,\n",
       " 1912.0,\n",
       " 1920.0,\n",
       " 1924.0,\n",
       " 1928.0,\n",
       " 1932.0,\n",
       " 1936.0,\n",
       " 1948.0,\n",
       " 1952.0,\n",
       " 1956.0,\n",
       " 1960.0,\n",
       " 1964.0,\n",
       " 1968.0,\n",
       " 1972.0,\n",
       " 1976.0,\n",
       " 1980.0,\n",
       " 1984.0,\n",
       " 1988.0,\n",
       " 1992.0,\n",
       " 1994.0,\n",
       " 1996.0,\n",
       " 1998.0,\n",
       " 2000.0,\n",
       " 2002.0,\n",
       " 2004.0,\n",
       " 2006.0,\n",
       " 2008.0,\n",
       " 2010.0,\n",
       " 2012.0,\n",
       " 2014.0,\n",
       " 2016.0,\n",
       " 2018.0,\n",
       " 2020.0,\n",
       " 2022.0]"
      ]
     },
     "execution_count": 60,
     "metadata": {},
     "output_type": "execute_result"
    }
   ],
   "source": [
    "df.select(\"year\").distinct().orderBy(\"year\").rdd.flatMap(lambda x: x).collect()"
   ]
  },
  {
   "cell_type": "markdown",
   "id": "67dad959-dd27-441d-8899-0d4fbf55a777",
   "metadata": {},
   "source": [
    "Given the data, it's likely that most NULL values in the 'year' column correspond to 1906. The Intercalated Games, a unique event held in 1906 to mark the 10th anniversary of the modern Olympics, were organized by the IOC but are not officially recognized in the Olympic record. As a result, the outcomes of these Games are excluded from the overall Olympic medal count."
   ]
  },
  {
   "cell_type": "code",
   "execution_count": 73,
   "id": "16cbe72c-e1c4-4a60-8087-91465e0473cb",
   "metadata": {},
   "outputs": [
    {
     "name": "stdout",
     "output_type": "stream",
     "text": [
      "+----+--------------------------------+-----------------------------+--------------------+----------+---+-----+-----+------+\n",
      "|year|discipline                      |event                        |as                  |athlete_id|noc|place|tied |medal |\n",
      "+----+--------------------------------+-----------------------------+--------------------+----------+---+-----+-----+------+\n",
      "|NULL|Tennis                          |Singles, Men (Intercalated)  |Max Decugis         |12        |FRA|1.0  |false|Gold  |\n",
      "|NULL|Tennis                          |Doubles, Mixed (Intercalated)|Max Decugis         |12        |FRA|1.0  |false|Gold  |\n",
      "|NULL|Tennis                          |Doubles, Men (Intercalated)  |Max Decugis         |12        |FRA|1.0  |false|Gold  |\n",
      "|NULL|Tennis                          |Singles, Men (Intercalated)  |Maurice Germot      |19        |FRA|2.0  |false|Silver|\n",
      "|NULL|Tennis                          |Doubles, Men (Intercalated)  |Maurice Germot      |19        |FRA|1.0  |false|Gold  |\n",
      "|NULL|Tennis                          |Doubles, Mixed (Intercalated)|Demetrius Casdagli  |178       |GRE|4.0  |true |NULL  |\n",
      "|NULL|Tennis                          |Singles, Men (Intercalated)  |Demetrius Casdagli  |178       |GRE|NULL |false|NULL  |\n",
      "|NULL|Tennis                          |Singles, Men (Intercalated)  |Ladislav Žemla      |2664      |BOH|14.0 |true |NULL  |\n",
      "|NULL|Tennis                          |Doubles, Men (Intercalated)  |Ladislav Žemla      |2664      |BOH|3.0  |false|Bronze|\n",
      "|NULL|Equestrian Dressage (Equestrian)|Individual, Open (Olympic)   |Else Christophersen |11297     |NOR|13.0 |false|NULL  |\n",
      "|NULL|Equestrian Dressage (Equestrian)|Team, Open (Olympic)         |Else Christophersen |11297     |NOR|7.0  |false|NULL  |\n",
      "|NULL|Equestrian Dressage (Equestrian)|Individual, Open (Olympic)   |Lis Hartel          |11350     |DEN|2.0  |false|Silver|\n",
      "|NULL|Equestrian Dressage (Equestrian)|Team, Open (Olympic)         |Lis Hartel          |11350     |DEN|5.0  |false|NULL  |\n",
      "|NULL|Equestrian Dressage (Equestrian)|Individual, Open (Olympic)   |Lorna Johnstone     |11375     |GBR|21.0 |false|NULL  |\n",
      "|NULL|Equestrian Dressage (Equestrian)|Individual, Open (Olympic)   |Anne-Lise Kielland  |11377     |NOR|27.0 |false|NULL  |\n",
      "|NULL|Equestrian Dressage (Equestrian)|Team, Open (Olympic)         |Anne-Lise Kielland  |11377     |NOR|7.0  |false|NULL  |\n",
      "|NULL|Equestrian Dressage (Equestrian)|Individual, Open (Olympic)   |Anneliese Küppers   |11383     |GER|14.0 |false|NULL  |\n",
      "|NULL|Equestrian Dressage (Equestrian)|Team, Open (Olympic)         |Anneliese Küppers   |11383     |GER|2.0  |false|Silver|\n",
      "|NULL|Equestrian Dressage (Equestrian)|Individual, Open (Olympic)   |Inger Lemvigh-Müller|11392     |DEN|23.0 |false|NULL  |\n",
      "|NULL|Equestrian Dressage (Equestrian)|Team, Open (Olympic)         |Inger Lemvigh-Müller|11392     |DEN|5.0  |false|NULL  |\n",
      "+----+--------------------------------+-----------------------------+--------------------+----------+---+-----+-----+------+\n",
      "only showing top 20 rows\n",
      "\n"
     ]
    }
   ],
   "source": [
    "df_null_year = df.filter(col(\"year\").isNull())\n",
    "df_null_year.show(truncate=False)"
   ]
  },
  {
   "cell_type": "markdown",
   "id": "ab0ed220-5ab1-4f9a-9913-808411b4c6e4",
   "metadata": {},
   "source": [
    "I will replace all NULL values in the 'year' column with **1906**, provided that the word **(Intercalated)** appears at the end of each record in the 'event' column"
   ]
  },
  {
   "cell_type": "code",
   "execution_count": 77,
   "id": "29689369-91c2-4f36-86af-e9b5603503f2",
   "metadata": {},
   "outputs": [],
   "source": [
    "df = df.withColumn(\"year\",when((col(\"year\").isNull()) & (col(\"event\").contains(\"(Intercalated)\")), 1906).otherwise(col(\"year\")))"
   ]
  },
  {
   "cell_type": "code",
   "execution_count": 79,
   "id": "3c3174bb-b3b7-4d44-9284-4728f6a0285b",
   "metadata": {},
   "outputs": [
    {
     "name": "stdout",
     "output_type": "stream",
     "text": [
      "+----+----------+-----+---+----------+---+-----+----+------+\n",
      "|year|discipline|event| as|athlete_id|noc|place|tied| medal|\n",
      "+----+----------+-----+---+----------+---+-----+----+------+\n",
      "| 605|         1|    0|  0|         0|  1|25215|   0|264269|\n",
      "+----+----------+-----+---+----------+---+-----+----+------+\n",
      "\n"
     ]
    }
   ],
   "source": [
    "df.select([count(when(isnan(c) | col(c).isNull(), c)).alias(c) for c in df.columns]).show()"
   ]
  },
  {
   "cell_type": "code",
   "execution_count": 81,
   "id": "38cff6fc-e5bd-4d14-ad68-621839fdeba6",
   "metadata": {},
   "outputs": [],
   "source": [
    "# Drop rows with NULL values\n",
    "df = df.dropna(subset=[\"year\", \"discipline\",\"noc\"])"
   ]
  },
  {
   "cell_type": "code",
   "execution_count": 83,
   "id": "46a427e9-6cda-425c-b5c4-2e0f5576d4d2",
   "metadata": {},
   "outputs": [
    {
     "data": {
      "text/plain": [
       "307802"
      ]
     },
     "execution_count": 83,
     "metadata": {},
     "output_type": "execute_result"
    }
   ],
   "source": [
    "df.count()"
   ]
  },
  {
   "cell_type": "markdown",
   "id": "ec484838-9375-4abc-bd43-eeab81d7a027",
   "metadata": {
    "jp-MarkdownHeadingCollapsed": true
   },
   "source": [
    "#### Drop duplicated records"
   ]
  },
  {
   "cell_type": "code",
   "execution_count": 93,
   "id": "6e69dd86-122b-4e51-b54f-4387b624d002",
   "metadata": {},
   "outputs": [
    {
     "data": {
      "text/plain": [
       "307626"
      ]
     },
     "execution_count": 93,
     "metadata": {},
     "output_type": "execute_result"
    }
   ],
   "source": [
    "df = df.dropDuplicates()\n",
    "df.count()"
   ]
  },
  {
   "cell_type": "markdown",
   "id": "9c1fbbb5-b927-4eaa-98da-eabdb8c4db15",
   "metadata": {
    "jp-MarkdownHeadingCollapsed": true
   },
   "source": [
    "### Save as CSV file"
   ]
  },
  {
   "cell_type": "code",
   "execution_count": 102,
   "id": "512984dc-c167-4ac4-a981-0bfaeae25938",
   "metadata": {},
   "outputs": [],
   "source": [
    "import pandas as pd\n",
    "pandas_df = df.toPandas()\n",
    "pandas_df.to_csv('Olympics_dataset_cleaned.csv', index=False)"
   ]
  }
 ],
 "metadata": {
  "kernelspec": {
   "display_name": "Python 3 (ipykernel)",
   "language": "python",
   "name": "python3"
  },
  "language_info": {
   "codemirror_mode": {
    "name": "ipython",
    "version": 3
   },
   "file_extension": ".py",
   "mimetype": "text/x-python",
   "name": "python",
   "nbconvert_exporter": "python",
   "pygments_lexer": "ipython3",
   "version": "3.11.7"
  }
 },
 "nbformat": 4,
 "nbformat_minor": 5
}
